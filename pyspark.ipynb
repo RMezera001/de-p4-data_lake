{
 "cells": [
  {
   "cell_type": "code",
   "execution_count": null,
   "metadata": {},
   "outputs": [],
   "source": [
    "%%spark"
   ]
  },
  {
   "cell_type": "code",
   "execution_count": null,
   "metadata": {},
   "outputs": [],
   "source": [
    "#Load modules\n",
    "from pyspark.sql import SparkSession\n",
    "from pyspark.sql.types import IntegerType\n",
    "import pyspark.sql.functions as F\n",
    "import os\n",
    "import configparser\n",
    "import zipfile\n",
    "import datetime\n",
    "from pyspark.sql.functions import hour, year, month, dayofmonth, weekofyear, dayofweek\n",
    "from pyspark.sql.types import IntegerType\n",
    "\n",
    "input_data = \"s3a://udacity-dend/\"\n",
    "output_data = \"s3a://udacity-datalakes-project/\"\n"
   ]
  },
  {
   "cell_type": "code",
   "execution_count": null,
   "metadata": {},
   "outputs": [],
   "source": [
    "# get filepath to song data file\n",
    "song_data = input_data + 'song_data/*/*/*/*.json'\n",
    "\n",
    "# read song data file\n",
    "print('Reading Song Data ... \\n')\n",
    "\n",
    "# S3 data\n",
    "df_song = spark.read.json(song_data)\n",
    "\n",
    "# Zip data for testing\n",
    "#df_song = spark.read.json('unzip_data/song_data/song_data/A/*/*/*.json')\n",
    "\n"
   ]
  },
  {
   "cell_type": "code",
   "execution_count": null,
   "metadata": {},
   "outputs": [],
   "source": [
    "#################################################\n",
    "# get filepath to log data file\n",
    "#S3 data\n",
    "log_data = input_data + 'log-data/*/*/*.json'\n",
    "\n",
    "# read log data file\n",
    "print('Loading Log data ... \\n')\n",
    "\n",
    "# S3 data\n",
    "df_log = spark.read.json(log_data)\n",
    "\n",
    "# Zip data for testing\n",
    "#df_log = spark.read.json('unzip_data/log_data/*.json')\n",
    "# get start time\n",
    "df_log = df_log.withColumn('start_time', F.from_unixtime(df_log['ts']/1000).cast(\"timestamp\")).filter(df_log['page']=='NextSong')    "
   ]
  },
  {
   "cell_type": "code",
   "execution_count": null,
   "metadata": {},
   "outputs": [],
   "source": [
    "###################################################\n",
    "print('Creating Song Table ... \\n')\n",
    "# extract columns to create songs table   \n",
    "songs_table = df_song.select(['song_id','title','artist_id','year','duration'])\\\n",
    ".dropDuplicates(subset=['song_id']).sort('title')"
   ]
  },
  {
   "cell_type": "code",
   "execution_count": null,
   "metadata": {},
   "outputs": [],
   "source": [
    "#################################################\n",
    "print('Creating Artist Table ... \\n')\n",
    "#extract columns to create artists table\n",
    "artist_table = df_song.select(['artist_id','artist_name',\\\n",
    "                                 'artist_location','artist_latitude','artist_longitude'])\\\n",
    ".dropDuplicates(subset=['artist_id']).sort('artist_name')\n",
    "\n",
    "artist_table = artist_table.selectExpr('artist_id as artist_id','artist_name as name',\\\n",
    "                                            'artist_location as location','artist_latitude as latitude',\\\n",
    "                                            'artist_longitude as longitude')  "
   ]
  },
  {
   "cell_type": "code",
   "execution_count": null,
   "metadata": {},
   "outputs": [],
   "source": [
    "#################################################\n",
    "print('Creating User Table ... \\n')\n",
    "# extract columns for users table  \n",
    "user_table = df_log.select(['userId','firstName','lastName',\\\n",
    "                              'gender','level'])\\\n",
    ".dropDuplicates(subset=['userId']).sort('lastName').where(df_log['userId']!= '')\n",
    "\n",
    "# Change userid type from string to integer\n",
    "user_table = user_table.withColumn(\"userId\", user_table[\"userId\"].cast(IntegerType()))"
   ]
  },
  {
   "cell_type": "code",
   "execution_count": null,
   "metadata": {},
   "outputs": [],
   "source": [
    "####################################################\n",
    "#Create time table\n",
    "# Get start time\n",
    "print('Creating Time Table ... \\n')\n",
    "time_table = df_log.select(['start_time'])\n",
    "\n",
    "# Convert from start time to hour/day/week/month/year/weekday\n",
    "time_table = time_table.select(\n",
    "    'start_time',\n",
    "    hour(\"start_time\").alias('hour'),\n",
    "    dayofmonth(\"start_time\").alias('day'),\n",
    "    weekofyear(\"start_time\").alias('week'),\n",
    "    month(\"start_time\").alias('month'),\n",
    "    year(\"start_time\").alias('year'), \n",
    "    dayofweek(\"start_time\").alias('weekday')\n",
    ")    "
   ]
  },
  {
   "cell_type": "code",
   "execution_count": null,
   "metadata": {},
   "outputs": [],
   "source": [
    "######################################################\n",
    "print('Creating Songplays Table ... \\n')\n",
    "# Get data from log data\n",
    "songplays_table = df_log.select(['start_time','userId','level','song','sessionId','location','userAgent','length']).filter(df_log['page']=='NextSong')\n",
    "\n",
    "#get song, songid, and artistid to join\n",
    "song_artist_table = df_song.select(['title','song_id','artist_id','duration']).dropDuplicates(subset=['song_id'])\n",
    "\n",
    "# Create songplay_id column\n",
    "songplays_table = songplays_table.withColumn(\"songplay_id\", F.monotonically_increasing_id())\n",
    "\n",
    "#join songid and artistid\n",
    "songplays_table = songplays_table.join(song_artist_table,\\\n",
    "                                       songplays_table.song == song_artist_table.title,\\\n",
    "                                       how='left')\n",
    "\n",
    "#drop ts song and title columns\n",
    "songplays_table = songplays_table.drop('title')\n",
    "\n",
    "# Change userid type from string to integer\n",
    "songplays_table = songplays_table.withColumn(\"userId\", songplays_table[\"userId\"].cast(IntegerType()))\n",
    "\n",
    "# create month column\n",
    "songplays_table = songplays_table.withColumn(\"month\",\\\n",
    "                                             month(songplays_table[\"start_time\"]).alias('month'))   \n",
    "# create year column\n",
    "songplays_table = songplays_table.withColumn(\"year\",\\\n",
    "                                             year(songplays_table[\"start_time\"]).alias('year'))\n"
   ]
  },
  {
   "cell_type": "code",
   "execution_count": null,
   "metadata": {},
   "outputs": [],
   "source": [
    "print('Writing User Table ... \\n')\n",
    "user_table.write.mode(\"overwrite\").parquet(output_data+'user_table')"
   ]
  },
  {
   "cell_type": "code",
   "execution_count": null,
   "metadata": {},
   "outputs": [],
   "source": [
    "print('Writing Songplays Table ... \\n')\n",
    "songplays_table.write.mode(\"overwrite\").partitionBy('year','month').parquet(output_data+'songplays_table') "
   ]
  },
  {
   "cell_type": "code",
   "execution_count": null,
   "metadata": {},
   "outputs": [],
   "source": [
    "print('Writing Time Table ... \\n')\n",
    "time_table.write.mode(\"overwrite\").partitionBy('year','month').parquet(output_data+'time_table')"
   ]
  },
  {
   "cell_type": "code",
   "execution_count": null,
   "metadata": {},
   "outputs": [],
   "source": [
    "print('Writing Song Table ... \\n')\n",
    "songs_table.write.mode(\"overwrite\").partitionBy('year','artist_id').parquet(output_data+'songs_table')"
   ]
  },
  {
   "cell_type": "code",
   "execution_count": null,
   "metadata": {},
   "outputs": [],
   "source": [
    "print('Writing Artist Table ... \\n')\n",
    "artist_table.write.mode(\"overwrite\").parquet(output_data+'artist_table')"
   ]
  },
  {
   "cell_type": "code",
   "execution_count": null,
   "metadata": {},
   "outputs": [],
   "source": []
  }
 ],
 "metadata": {
  "kernelspec": {
   "display_name": "Python 3",
   "language": "python",
   "name": "python3"
  },
  "language_info": {
   "codemirror_mode": {
    "name": "ipython",
    "version": 3
   },
   "file_extension": ".py",
   "mimetype": "text/x-python",
   "name": "python",
   "nbconvert_exporter": "python",
   "pygments_lexer": "ipython3",
   "version": "3.6.3"
  }
 },
 "nbformat": 4,
 "nbformat_minor": 4
}
